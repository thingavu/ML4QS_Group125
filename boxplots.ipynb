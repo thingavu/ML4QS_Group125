{
 "cells": [
  {
   "cell_type": "code",
   "execution_count": 69,
   "metadata": {},
   "outputs": [],
   "source": [
    "import pandas as pd\n",
    "import matplotlib.pyplot as plt\n",
    "import seaborn as sns\n",
    "import glob\n",
    "import os"
   ]
  },
  {
   "cell_type": "code",
   "execution_count": 76,
   "metadata": {},
   "outputs": [],
   "source": [
    "# Directory containing your amplitude files\n",
    "file_dir = '/Users/macbookair/Desktop/ML4QS_Group125/data_aggregated/'\n",
    "output_dir = '/Users/macbookair/Desktop/ML4QS_Group125/boxplots/amplitudes/'\n",
    "\n",
    "# Create output directory if it doesn't exist\n",
    "os.makedirs(output_dir, exist_ok=True)\n",
    "\n",
    "# Get all amplitude files with .csv extension\n",
    "file_paths = glob.glob(os.path.join(file_dir, 'amplitude_*.csv'))"
   ]
  },
  {
   "cell_type": "code",
   "execution_count": 78,
   "metadata": {},
   "outputs": [
    {
     "name": "stdout",
     "output_type": "stream",
     "text": [
      "Processing file: /Users/macbookair/Desktop/ML4QS_Group125/data_aggregated/amplitude_0.1.csv\n",
      "Processing file: /Users/macbookair/Desktop/ML4QS_Group125/data_aggregated/amplitude_0.5.csv\n",
      "Processing file: /Users/macbookair/Desktop/ML4QS_Group125/data_aggregated/amplitude_2.csv\n",
      "Processing file: /Users/macbookair/Desktop/ML4QS_Group125/data_aggregated/amplitude_1.csv\n",
      "Processing file: /Users/macbookair/Desktop/ML4QS_Group125/data_aggregated/amplitude_5.csv\n"
     ]
    }
   ],
   "source": [
    "# Loop through each file\n",
    "for file_path in file_paths:\n",
    "    print(f'Processing file: {file_path}')\n",
    "    # Extract the Δt value from the file name\n",
    "    delta_t = os.path.basename(file_path).split('_')[1].split('.')[0]\n",
    "    \n",
    "    # Load the data\n",
    "    df = pd.read_csv(file_path)\n",
    "    \n",
    "    # Get unique values for trials, participants, languages, and tones\n",
    "    trials = df['script'].unique()\n",
    "    participants = df['participant'].unique()\n",
    "    languages = df['language'].unique()\n",
    "    tones = df['tone'].unique()\n",
    "    \n",
    "    # Combine participant and script into a single column for easy plotting\n",
    "    df['participant_script'] = df['participant'].astype(str) + '-' + df['script']\n",
    "    \n",
    "    # Create a 2x2 subplot\n",
    "    fig, axs = plt.subplots(2, 2, figsize=(12, 6))  # Adjust figsize to control overall plot size\n",
    "    fig.tight_layout(pad=4.0)  # Adjust padding between plots\n",
    "    \n",
    "    # Flatten the axs array for easy indexing\n",
    "    axs = axs.flatten()\n",
    "    \n",
    "    # Counter for subplot indexing\n",
    "    plot_idx = 0\n",
    "    \n",
    "    # Loop through each unique combination of language and tone\n",
    "    for tone in tones:\n",
    "        for language in languages:\n",
    "            # Filter dataframe for the current language and tone\n",
    "            df_lang_tone = df[(df['tone'] == tone) & (df['language'] == language)]\n",
    "            \n",
    "            # Create boxplots with participant-script on the x-axis in the current subplot\n",
    "            sns.boxplot(ax=axs[plot_idx], x='participant_script', y='amplitude_mean', data=df_lang_tone)\n",
    "            if tone == 'bus':\n",
    "                axs[plot_idx].set_title(f'{language.upper()} - {tone.capitalize()}iness')\n",
    "            else:\n",
    "                axs[plot_idx].set_title(f'{language.upper()} - {tone.capitalize()}')\n",
    "            axs[plot_idx].set_xlabel(\"\")  # Remove x-axis label\n",
    "            axs[plot_idx].set_ylabel(\"Amplitude\", fontsize=15)\n",
    "            axs[plot_idx].tick_params(axis='x', rotation=10, labelsize=10)\n",
    "            axs[plot_idx].tick_params(axis='y', labelsize=8)\n",
    "        \n",
    "            # Increment the subplot index\n",
    "            plot_idx += 1\n",
    "    \n",
    "    # Put a title on the whole plot at the bottom\n",
    "    plt.figtext(0.5, 0.01, f'Δt = {delta_t}s', ha='center', fontsize=20)\n",
    "    \n",
    "    # Save the plot\n",
    "    output_file_path = os.path.join(output_dir, f'boxplot_dt_{delta_t}.png')\n",
    "    plt.savefig(output_file_path)\n",
    "    prınt(f'Plot saved to: {output_file_path}')\n",
    "    # Close the plot to free memory\n",
    "    plt.close(fig)"
   ]
  },
  {
   "cell_type": "code",
   "execution_count": null,
   "metadata": {},
   "outputs": [],
   "source": []
  },
  {
   "cell_type": "code",
   "execution_count": null,
   "metadata": {},
   "outputs": [],
   "source": []
  }
 ],
 "metadata": {
  "kernelspec": {
   "display_name": "Python 3",
   "language": "python",
   "name": "python3"
  },
  "language_info": {
   "codemirror_mode": {
    "name": "ipython",
    "version": 3
   },
   "file_extension": ".py",
   "mimetype": "text/x-python",
   "name": "python",
   "nbconvert_exporter": "python",
   "pygments_lexer": "ipython3",
   "version": "3.9.12"
  }
 },
 "nbformat": 4,
 "nbformat_minor": 2
}
