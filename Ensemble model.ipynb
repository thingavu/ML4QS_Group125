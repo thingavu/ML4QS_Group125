{
 "cells": [
  {
   "cell_type": "code",
   "execution_count": 42,
   "metadata": {},
   "outputs": [],
   "source": [
    "from sklearn import datasets\n",
    "from sklearn.model_selection import train_test_split\n",
    "from sklearn.preprocessing import StandardScaler\n",
    "from sklearn.linear_model import LogisticRegression\n",
    "from sklearn.tree import DecisionTreeClassifier\n",
    "from sklearn.svm import SVC\n",
    "from sklearn.ensemble import VotingClassifier\n",
    "import pandas as pd\n",
    "from sklearn.metrics import classification_report\n",
    "from sklearn.metrics import confusion_matrix\n",
    "from sklearn.metrics import accuracy_score"
   ]
  },
  {
   "cell_type": "code",
   "execution_count": 43,
   "metadata": {},
   "outputs": [],
   "source": [
    "# Load the data\n",
    "data = pd.read_csv('./data_w_features/data_w_all_features_final_win10.csv')\n",
    "data = data.dropna()"
   ]
  },
  {
   "cell_type": "code",
   "execution_count": 44,
   "metadata": {},
   "outputs": [],
   "source": [
    "def ensemble_model(data, target_column='tone', drop_columns=['time_0.5', 'language', 'tone', 'participant', 'script'], train_size=0.8):\n",
    "    \n",
    "    \n",
    "    # # Define features and target\n",
    "    # X = data.drop(drop_columns, axis=1)\n",
    "    # y = data[target_column]\n",
    "\n",
    "    # # Split dataset into train and test sets\n",
    "    # X_train, X_test, y_train, y_test = train_test_split(X, y, train_size=train_size, stratify=y, random_state=1)\n",
    "\n",
    "    # Define features and target\n",
    "    X_train = data[data['participant'] != 'subject3'].drop(drop_columns, axis=1)\n",
    "    y_train = data[data['participant'] != 'subject3'][target_column]\n",
    "    X_test = data[data['participant'] == 'subject3'].drop(drop_columns, axis=1)\n",
    "    y_test = data[data['participant'] == 'subject3'][target_column]    \n",
    "\n",
    "    # Standardize features\n",
    "    sc = StandardScaler()\n",
    "    X_train_std = sc.fit_transform(X_train)\n",
    "    X_test_std = sc.transform(X_test)\n",
    "\n",
    "    # Define classifiers\n",
    "    clf1 = LogisticRegression(solver='lbfgs', multi_class='auto', random_state=1)\n",
    "    clf2 = DecisionTreeClassifier(max_depth=1, criterion='entropy', random_state=0)\n",
    "    clf3 = SVC(kernel='rbf', random_state=1, gamma=0.10, C=1.0)\n",
    "\n",
    "    # Combine classifiers into ensemble model\n",
    "    eclf = VotingClassifier(estimators=[('lr', clf1), ('dt', clf2), ('svc', clf3)], voting='hard')\n",
    "\n",
    "    # Fit ensemble model\n",
    "    eclf.fit(X_train_std, y_train)\n",
    "\n",
    "    # Predict\n",
    "    y_pred = eclf.predict(X_test_std)\n",
    "\n",
    "    # Confusion matrix\n",
    "    conf_matrix = confusion_matrix(y_test, y_pred)\n",
    "    print(\"Confusion matrix:\\n\", conf_matrix)\n",
    "\n",
    "    # Print recall, precision, F1 score, accuracy\n",
    "    print(\"Results on language:\")\n",
    "    print(classification_report(y_test, y_pred))\n",
    "\n",
    "    return eclf, y_test, y_pred"
   ]
  },
  {
   "cell_type": "code",
   "execution_count": 45,
   "metadata": {},
   "outputs": [
    {
     "name": "stderr",
     "output_type": "stream",
     "text": [
      "c:\\Users\\orzma\\anaconda3\\Lib\\site-packages\\sklearn\\linear_model\\_logistic.py:458: ConvergenceWarning: lbfgs failed to converge (status=1):\n",
      "STOP: TOTAL NO. of ITERATIONS REACHED LIMIT.\n",
      "\n",
      "Increase the number of iterations (max_iter) or scale the data as shown in:\n",
      "    https://scikit-learn.org/stable/modules/preprocessing.html\n",
      "Please also refer to the documentation for alternative solver options:\n",
      "    https://scikit-learn.org/stable/modules/linear_model.html#logistic-regression\n",
      "  n_iter_i = _check_optimize_result(\n"
     ]
    },
    {
     "name": "stdout",
     "output_type": "stream",
     "text": [
      "Confusion matrix:\n",
      " [[  9 511]\n",
      " [  9 923]]\n",
      "Results on language:\n",
      "              precision    recall  f1-score   support\n",
      "\n",
      "          ch       0.50      0.02      0.03       520\n",
      "          en       0.64      0.99      0.78       932\n",
      "\n",
      "    accuracy                           0.64      1452\n",
      "   macro avg       0.57      0.50      0.41      1452\n",
      "weighted avg       0.59      0.64      0.51      1452\n",
      "\n"
     ]
    },
    {
     "name": "stderr",
     "output_type": "stream",
     "text": [
      "c:\\Users\\orzma\\anaconda3\\Lib\\site-packages\\sklearn\\linear_model\\_logistic.py:458: ConvergenceWarning: lbfgs failed to converge (status=1):\n",
      "STOP: TOTAL NO. of ITERATIONS REACHED LIMIT.\n",
      "\n",
      "Increase the number of iterations (max_iter) or scale the data as shown in:\n",
      "    https://scikit-learn.org/stable/modules/preprocessing.html\n",
      "Please also refer to the documentation for alternative solver options:\n",
      "    https://scikit-learn.org/stable/modules/linear_model.html#logistic-regression\n",
      "  n_iter_i = _check_optimize_result(\n"
     ]
    },
    {
     "name": "stdout",
     "output_type": "stream",
     "text": [
      "Confusion matrix:\n",
      " [[399 430]\n",
      " [396 227]]\n",
      "Results on language:\n",
      "              precision    recall  f1-score   support\n",
      "\n",
      "         bus       0.50      0.48      0.49       829\n",
      "      casual       0.35      0.36      0.35       623\n",
      "\n",
      "    accuracy                           0.43      1452\n",
      "   macro avg       0.42      0.42      0.42      1452\n",
      "weighted avg       0.43      0.43      0.43      1452\n",
      "\n"
     ]
    }
   ],
   "source": [
    "eclf1, y1_test, y1_pred = ensemble_model(data, target_column='language')\n",
    "eclf2, y2_test, y2_pred = ensemble_model(data, target_column='tone')"
   ]
  },
  {
   "cell_type": "code",
   "execution_count": 46,
   "metadata": {},
   "outputs": [
    {
     "name": "stdout",
     "output_type": "stream",
     "text": [
      "1452 1452\n",
      "1452 1452\n"
     ]
    }
   ],
   "source": [
    "print(len(y1_test), len(y1_pred))\n",
    "print(len(y2_test), len(y2_pred))"
   ]
  },
  {
   "cell_type": "code",
   "execution_count": 47,
   "metadata": {},
   "outputs": [
    {
     "name": "stdout",
     "output_type": "stream",
     "text": [
      "label 1 = ch & bus\n",
      "label 2 = ch & casual\n",
      "label 3 = en & bus\n",
      "label 4 = en & casual\n"
     ]
    }
   ],
   "source": [
    "# Merge the two predictions\n",
    "merged_label = []\n",
    "merged_pred = []\n",
    "\n",
    "for i in range(len(y1_test)):\n",
    "    if y1_test.iloc[i] == 'ch' and y2_test.iloc[i] == 'bus':\n",
    "        merged_label.append(1)\n",
    "    elif y1_test.iloc[i] == 'ch' and y2_test.iloc[i] == 'casual':\n",
    "        merged_label.append(2)\n",
    "    elif y1_test.iloc[i] == 'en' and y2_test.iloc[i] == 'bus':\n",
    "        merged_label.append(3)\n",
    "    elif y1_test.iloc[i] == 'en' and y2_test.iloc[i] == 'casual':\n",
    "        merged_label.append(4)\n",
    "    else:\n",
    "        merged_label.append(0)\n",
    "\n",
    "    if y1_pred[i] == 'ch' and y2_pred[i] == 'bus':\n",
    "        merged_pred.append(1)\n",
    "    elif y1_pred[i] == 'ch' and y2_pred[i] == 'casual':\n",
    "        merged_pred.append(2)\n",
    "    elif y1_pred[i] == 'en' and y2_pred[i] == 'bus':\n",
    "        merged_pred.append(3)\n",
    "    elif y1_pred[i] == 'en' and y2_pred[i] == 'casual':\n",
    "        merged_pred.append(4)\n",
    "    else:\n",
    "        merged_pred.append(0)\n",
    "\n",
    "print(\"label 1 = ch & bus\")\n",
    "print(\"label 2 = ch & casual\")\n",
    "print(\"label 3 = en & bus\")\n",
    "print(\"label 4 = en & casual\")"
   ]
  },
  {
   "cell_type": "code",
   "execution_count": 48,
   "metadata": {},
   "outputs": [
    {
     "name": "stdout",
     "output_type": "stream",
     "text": [
      "1452 1452\n",
      "0\n"
     ]
    }
   ],
   "source": [
    "print(len(merged_label), len(merged_pred))\n",
    "num_zeros = merged_pred.count(0)\n",
    "print(num_zeros)"
   ]
  },
  {
   "cell_type": "code",
   "execution_count": 49,
   "metadata": {},
   "outputs": [
    {
     "name": "stdout",
     "output_type": "stream",
     "text": [
      "Confusion matrix (merged):\n",
      " [[  6   3 143 134]\n",
      " [  0   0 103 131]\n",
      " [  5   3 245 290]\n",
      " [  1   0 292  96]]\n",
      "Results on merged:\n",
      "              precision    recall  f1-score   support\n",
      "\n",
      "           1       0.50      0.02      0.04       286\n",
      "           2       0.00      0.00      0.00       234\n",
      "           3       0.31      0.45      0.37       543\n",
      "           4       0.15      0.25      0.18       389\n",
      "\n",
      "    accuracy                           0.24      1452\n",
      "   macro avg       0.24      0.18      0.15      1452\n",
      "weighted avg       0.26      0.24      0.20      1452\n",
      "\n"
     ]
    }
   ],
   "source": [
    "# Confusion matrix\n",
    "conf_matrix = confusion_matrix(merged_label, merged_pred)\n",
    "print(\"Confusion matrix (merged):\\n\", conf_matrix)\n",
    "\n",
    "# Print recall, precision, F1 score, accuracy\n",
    "print(\"Results on merged:\")\n",
    "print(classification_report(merged_label, merged_pred))"
   ]
  }
 ],
 "metadata": {
  "kernelspec": {
   "display_name": "base",
   "language": "python",
   "name": "python3"
  },
  "language_info": {
   "codemirror_mode": {
    "name": "ipython",
    "version": 3
   },
   "file_extension": ".py",
   "mimetype": "text/x-python",
   "name": "python",
   "nbconvert_exporter": "python",
   "pygments_lexer": "ipython3",
   "version": "3.11.7"
  }
 },
 "nbformat": 4,
 "nbformat_minor": 2
}
