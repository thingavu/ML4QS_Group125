{
 "cells": [
  {
   "cell_type": "code",
   "execution_count": 83,
   "metadata": {},
   "outputs": [],
   "source": [
    "import pandas as pd\n"
   ]
  },
  {
   "cell_type": "code",
   "execution_count": 84,
   "metadata": {},
   "outputs": [],
   "source": [
    "# Path to the folder containing the CSV files\n",
    "path = \"/Users/macbookair/Desktop/ML4QS_Group125/data_aggregated\"\n",
    "\n",
    "# List of file paths\n",
    "file_paths = [\n",
    "    path + \"/amplitude_0.1.csv\",\n",
    "    path + \"/intensity_time_0.1.csv\", \n",
    "    path + \"/pitch_time_0.1.csv\"\n",
    "]\n",
    "\n",
    "# Read each CSV file into a DataFrame and store them in a list\n",
    "df_list = [pd.read_csv(file_path) for file_path in file_paths]"
   ]
  },
  {
   "cell_type": "code",
   "execution_count": 86,
   "metadata": {},
   "outputs": [],
   "source": [
    "def merge_and_reorder_dataframes(amplitude_df, intensity_df, pitch_df,autocorrelation_df):\n",
    "    # Drop the 'sensor' column as it's not needed for merging\n",
    "    amplitude_df = amplitude_df.drop(columns=['sensor'])\n",
    "    intensity_df = intensity_df.drop(columns=['sensor'])\n",
    "    pitch_df = pitch_df.drop(columns=['sensor'])\n",
    "    autocorrelation_df = autocorrelation_df.drop(columns=['sensor'])\n",
    "    \n",
    "    # Merge amplitude and intensity DataFrames\n",
    "    merged_df = pd.merge(amplitude_df, intensity_df, on=['time_0.1', 'language', 'tone', 'participant', 'script'], how='outer')\n",
    "    \n",
    "    # Merge the result with the pitch DataFrame\n",
    "    merged_df = pd.merge(merged_df, pitch_df, on=['time_0.1', 'language', 'tone', 'participant', 'script'], how='outer')\n",
    "\n",
    "    # Merge the result with the autocorrelation DataFrame\n",
    "    merged_df = pd.merge(merged_df, autocorrelation_df, on=['time_0.1', 'language', 'tone', 'participant', 'script'], how='outer')\n",
    "    \n",
    "    # Reorder columns\n",
    "    columns_order = ['time_0.1', 'participant', 'script'] + \\\n",
    "                    [col for col in merged_df.columns if 'amplitude' in col] + \\\n",
    "                    [col for col in merged_df.columns if 'intensity' in col] + \\\n",
    "                    [col for col in merged_df.columns if 'pitch' in col] + \\\n",
    "                    [col for col in merged_df.columns if 'autocorrelation' in col] + \\\n",
    "                    ['language', 'tone']\n",
    "    \n",
    "    merged_df = merged_df[columns_order]\n",
    "    \n",
    "    return merged_df\n",
    "\n",
    "\n",
    "# Call the function to merge the DataFrames\n",
    "merged_df = merge_and_reorder_dataframes(df_list[0], df_list[1], df_list[2])\n",
    "\n",
    "# Save the merged DataFrame to a new CSV file\n",
    "merged_df.to_csv('/Users/macbookair/Desktop/ML4QS_Group125/data/merged_data_0.1.csv', index=False)\n"
   ]
  },
  {
   "cell_type": "code",
   "execution_count": null,
   "metadata": {},
   "outputs": [],
   "source": []
  }
 ],
 "metadata": {
  "kernelspec": {
   "display_name": "base",
   "language": "python",
   "name": "python3"
  },
  "language_info": {
   "codemirror_mode": {
    "name": "ipython",
    "version": 3
   },
   "file_extension": ".py",
   "mimetype": "text/x-python",
   "name": "python",
   "nbconvert_exporter": "python",
   "pygments_lexer": "ipython3",
   "version": "3.9.12"
  }
 },
 "nbformat": 4,
 "nbformat_minor": 2
}
