{
 "cells": [
  {
   "cell_type": "code",
   "execution_count": 36,
   "metadata": {},
   "outputs": [],
   "source": [
    "import pandas as pd\n",
    "from TemporalAbstraction import CategoricalAbstraction\n",
    "from sklearn.cluster import KMeans\n",
    "import numpy as np"
   ]
  },
  {
   "cell_type": "code",
   "execution_count": 37,
   "metadata": {},
   "outputs": [],
   "source": [
    "# Load the dataset\n",
    "file_path = '//Users/macbookair/Desktop/ML4QS_Group125/data_w_features/data_w_all_features_0.5.csv'\n",
    "data = pd.read_csv(file_path)"
   ]
  },
  {
   "cell_type": "code",
   "execution_count": 38,
   "metadata": {},
   "outputs": [],
   "source": [
    "# Identify columns of interest\n",
    "columns_of_interest = [\n",
    "    'amplitude_mean_kalman', 'pitch_mean_kalman', 'sound_intensity_mean_kalman']"
   ]
  },
  {
   "cell_type": "code",
   "execution_count": 39,
   "metadata": {},
   "outputs": [],
   "source": [
    "# Function to categorize a feature using k-means clustering\n",
    "def categorize_feature(data, feature, n_clusters=3):\n",
    "    kmeans = KMeans(n_clusters=n_clusters, random_state=0)\n",
    "    data[f'{feature}_categorical'] = kmeans.fit_predict(data[[feature]])\n",
    "    \n",
    "    # Assign meaningful category names\n",
    "    centroids = kmeans.cluster_centers_.flatten()\n",
    "    sorted_centroids = np.argsort(centroids)\n",
    "    category_names = ['low', 'medium', 'high']\n",
    "    mapping = {sorted_centroids[i]: category_names[i] for i in range(n_clusters)}\n",
    "    \n",
    "    data[f'{feature}_categorical'] = data[f'{feature}_categorical'].map(mapping)\n",
    "    return data\n"
   ]
  },
  {
   "cell_type": "code",
   "execution_count": 40,
   "metadata": {},
   "outputs": [],
   "source": [
    "# Apply categorization to each feature of interest\n",
    "for feature in columns_of_interest:\n",
    "    data = categorize_feature(data, feature)\n"
   ]
  },
  {
   "cell_type": "code",
   "execution_count": 41,
   "metadata": {},
   "outputs": [
    {
     "name": "stdout",
     "output_type": "stream",
     "text": [
      "amplitude_mean_kalman_categorical\n",
      "high      3620\n",
      "low       3047\n",
      "medium    7472\n",
      "dtype: int64\n",
      "pitch_mean_kalman_categorical\n",
      "high       490\n",
      "low       8439\n",
      "medium    5210\n",
      "dtype: int64\n",
      "sound_intensity_mean_kalman_categorical\n",
      "high      4354\n",
      "low       2390\n",
      "medium    7395\n",
      "dtype: int64\n"
     ]
    }
   ],
   "source": [
    "\n",
    "# Display the number of each category for each column\n",
    "for feature in columns_of_interest:\n",
    "    print(data.groupby([f'{feature}_categorical']).size())  "
   ]
  },
  {
   "cell_type": "code",
   "execution_count": 31,
   "metadata": {},
   "outputs": [
    {
     "name": "stdout",
     "output_type": "stream",
     "text": [
      "['time_0.5', 'language', 'tone', 'participant', 'script', 'sound_intensity_max', 'sound_intensity_min', 'sound_intensity_mean', 'sound_intensity_median', 'sound_intensity_std', 'sound_intensity_missing', 'pitch_max', 'pitch_min', 'pitch_mean', 'pitch_median', 'pitch_std', 'pitch_missing', 'amplitude_mean', 'amplitude_max', 'amplitude_min', 'amplitude_median', 'amplitude_std', 'amplitude_missing', 'amplitude_mean_lowpass', 'pitch_mean_lowpass', 'sound_intensity_mean_lowpass', 'amplitude_mean_kalman', 'pitch_mean_kalman', 'sound_intensity_mean_kalman', 'sound_intensity_mean_kalman_max_freq', 'sound_intensity_mean_kalman_freq_weighted', 'sound_intensity_mean_kalman_pse', 'sound_intensity_mean_kalman_freq_0.0_Hz_ws_10', 'sound_intensity_mean_kalman_freq_0.1_Hz_ws_10', 'sound_intensity_mean_kalman_freq_0.2_Hz_ws_10', 'sound_intensity_mean_kalman_freq_0.3_Hz_ws_10', 'sound_intensity_mean_kalman_freq_0.4_Hz_ws_10', 'sound_intensity_mean_kalman_freq_0.5_Hz_ws_10', 'amplitude_mean_kalman_max_freq', 'amplitude_mean_kalman_freq_weighted', 'amplitude_mean_kalman_pse', 'amplitude_mean_kalman_freq_0.0_Hz_ws_10', 'amplitude_mean_kalman_freq_0.1_Hz_ws_10', 'amplitude_mean_kalman_freq_0.2_Hz_ws_10', 'amplitude_mean_kalman_freq_0.3_Hz_ws_10', 'amplitude_mean_kalman_freq_0.4_Hz_ws_10', 'amplitude_mean_kalman_freq_0.5_Hz_ws_10', 'pitch_mean_kalman_max_freq', 'pitch_mean_kalman_freq_weighted', 'pitch_mean_kalman_pse', 'pitch_mean_kalman_freq_0.0_Hz_ws_10', 'pitch_mean_kalman_freq_0.1_Hz_ws_10', 'pitch_mean_kalman_freq_0.2_Hz_ws_10', 'pitch_mean_kalman_freq_0.3_Hz_ws_10', 'pitch_mean_kalman_freq_0.4_Hz_ws_10', 'pitch_mean_kalman_freq_0.5_Hz_ws_10', 'amplitude_autocorr_lag_1', 'sound_intensity_autocorr_lag_1', 'amplitude_autocorr_lag_2', 'sound_intensity_autocorr_lag_2', 'amplitude_autocorr_lag_3', 'sound_intensity_autocorr_lag_3', 'amplitude_autocorr_lag_4', 'sound_intensity_autocorr_lag_4', 'amplitude_autocorr_lag_5', 'sound_intensity_autocorr_lag_5', 'amplitude_mean_kalman_categorical', 'pitch_mean_kalman_categorical', 'sound_intensity_mean_kalman_categorical']\n"
     ]
    }
   ],
   "source": [
    "# Print out the column names to verify\n",
    "print(data.columns.tolist())"
   ]
  },
  {
   "cell_type": "code",
   "execution_count": 32,
   "metadata": {},
   "outputs": [],
   "source": [
    "data.to_csv('/Users/macbookair/Desktop/ML4QS_Group125/data_w_features/data_w_all_features_on_0.5_secs_with_categorical.csv', index=False)"
   ]
  },
  {
   "cell_type": "code",
   "execution_count": 42,
   "metadata": {},
   "outputs": [],
   "source": [
    "# One-hot encode the categorical columns\n",
    "categorical_cols = [f'{feature}_categorical' for feature in columns_of_interest]\n",
    "data = pd.get_dummies(data, columns=categorical_cols, prefix=categorical_cols)\n",
    "\n"
   ]
  },
  {
   "cell_type": "code",
   "execution_count": 44,
   "metadata": {},
   "outputs": [
    {
     "name": "stdout",
     "output_type": "stream",
     "text": [
      "(346, 75)\n",
      "amplitude_mean_kalman_categorical_high\n"
     ]
    },
    {
     "name": "stderr",
     "output_type": "stream",
     "text": [
      "/Users/macbookair/Desktop/ML4QS_Group125/Chapter4/TemporalAbstraction.py:142: SettingWithCopyWarning: \n",
      "A value is trying to be set on a copy of a slice from a DataFrame.\n",
      "Try using .loc[row_indexer,col_indexer] = value instead\n",
      "\n",
      "See the caveats in the documentation: https://pandas.pydata.org/pandas-docs/stable/user_guide/indexing.html#returning-a-view-versus-a-copy\n",
      "  data_table[self.pattern_prefix + self.to_string(pattern)] = 0\n"
     ]
    },
    {
     "ename": "IndexError",
     "evalue": "index 346 is out of bounds for axis 0 with size 346",
     "output_type": "error",
     "traceback": [
      "\u001b[0;31m---------------------------------------------------------------------------\u001b[0m",
      "\u001b[0;31mIndexError\u001b[0m                                Traceback (most recent call last)",
      "Input \u001b[0;32mIn [44]\u001b[0m, in \u001b[0;36m<cell line: 16>\u001b[0;34m()\u001b[0m\n\u001b[1;32m     25\u001b[0m     \u001b[38;5;28mprint\u001b[39m(trial_data\u001b[38;5;241m.\u001b[39mshape)\n\u001b[1;32m     26\u001b[0m     \u001b[38;5;66;03m# Perform temporal abstraction on the current trial data\u001b[39;00m\n\u001b[0;32m---> 27\u001b[0m     abstracted_trial \u001b[38;5;241m=\u001b[39m \u001b[43mca\u001b[49m\u001b[38;5;241;43m.\u001b[39;49m\u001b[43mabstract_categorical\u001b[49m\u001b[43m(\u001b[49m\u001b[43mtrial_data\u001b[49m\u001b[43m,\u001b[49m\u001b[43m \u001b[49m\u001b[43mcols\u001b[49m\u001b[43m,\u001b[49m\u001b[43m \u001b[49m\u001b[43mmatch\u001b[49m\u001b[43m,\u001b[49m\u001b[43m \u001b[49m\u001b[43mmin_support\u001b[49m\u001b[43m,\u001b[49m\u001b[43m \u001b[49m\u001b[43mwindow_size\u001b[49m\u001b[43m,\u001b[49m\u001b[43m \u001b[49m\u001b[43mmax_pattern_size\u001b[49m\u001b[43m)\u001b[49m\n\u001b[1;32m     28\u001b[0m     abstracted_data \u001b[38;5;241m=\u001b[39m pd\u001b[38;5;241m.\u001b[39mconcat([abstracted_data, abstracted_trial])\n\u001b[1;32m     31\u001b[0m \u001b[38;5;66;03m# Save the resulting dataset with abstracted patterns\u001b[39;00m\n",
      "File \u001b[0;32m~/Desktop/ML4QS_Group125/Chapter4/TemporalAbstraction.py:180\u001b[0m, in \u001b[0;36mCategoricalAbstraction.abstract_categorical\u001b[0;34m(self, data_table, cols, match, min_support, window_size, max_pattern_size)\u001b[0m\n\u001b[1;32m    177\u001b[0m \u001b[38;5;66;03m# Generate the one patterns first\u001b[39;00m\n\u001b[1;32m    178\u001b[0m potential_1_patterns \u001b[38;5;241m=\u001b[39m [[pattern] \u001b[38;5;28;01mfor\u001b[39;00m pattern \u001b[38;5;129;01min\u001b[39;00m relevant_dataset_cols]\n\u001b[0;32m--> 180\u001b[0m new_data_table, one_patterns \u001b[38;5;241m=\u001b[39m \u001b[38;5;28;43mself\u001b[39;49m\u001b[38;5;241;43m.\u001b[39;49m\u001b[43mselect_k_patterns\u001b[49m\u001b[43m(\u001b[49m\u001b[43mdata_table\u001b[49m\u001b[43m,\u001b[49m\u001b[43m \u001b[49m\u001b[43mpotential_1_patterns\u001b[49m\u001b[43m,\u001b[49m\u001b[43m \u001b[49m\u001b[43mmin_support\u001b[49m\u001b[43m,\u001b[49m\u001b[43m \u001b[49m\u001b[43mwindow_size\u001b[49m\u001b[43m)\u001b[49m\n\u001b[1;32m    181\u001b[0m selected_patterns\u001b[38;5;241m.\u001b[39mextend(one_patterns)\n\u001b[1;32m    182\u001b[0m \u001b[38;5;28mprint\u001b[39m(\u001b[38;5;124mf\u001b[39m\u001b[38;5;124m'\u001b[39m\u001b[38;5;124mNumber of patterns of size 1 is \u001b[39m\u001b[38;5;132;01m{\u001b[39;00m\u001b[38;5;28mlen\u001b[39m(one_patterns)\u001b[38;5;132;01m}\u001b[39;00m\u001b[38;5;124m'\u001b[39m)\n",
      "File \u001b[0;32m~/Desktop/ML4QS_Group125/Chapter4/TemporalAbstraction.py:144\u001b[0m, in \u001b[0;36mCategoricalAbstraction.select_k_patterns\u001b[0;34m(self, data_table, patterns, min_support, window_size)\u001b[0m\n\u001b[1;32m    142\u001b[0m         data_table[\u001b[38;5;28mself\u001b[39m\u001b[38;5;241m.\u001b[39mpattern_prefix \u001b[38;5;241m+\u001b[39m \u001b[38;5;28mself\u001b[39m\u001b[38;5;241m.\u001b[39mto_string(pattern)] \u001b[38;5;241m=\u001b[39m \u001b[38;5;241m0\u001b[39m\n\u001b[1;32m    143\u001b[0m         \u001b[38;5;66;03m#data_table[self.pattern_prefix + self.to_string(pattern)][times] = 1\u001b[39;00m\n\u001b[0;32m--> 144\u001b[0m         data_table\u001b[38;5;241m.\u001b[39miloc[times, data_table\u001b[38;5;241m.\u001b[39mcolumns\u001b[38;5;241m.\u001b[39mget_loc(\u001b[38;5;28mself\u001b[39m\u001b[38;5;241m.\u001b[39mpattern_prefix \u001b[38;5;241m+\u001b[39m \u001b[38;5;28mself\u001b[39m\u001b[38;5;241m.\u001b[39mto_string(pattern))] \u001b[38;5;241m=\u001b[39m \u001b[38;5;241m1\u001b[39m\n\u001b[1;32m    145\u001b[0m \u001b[38;5;28;01mreturn\u001b[39;00m data_table, selected_patterns\n",
      "File \u001b[0;32m~/anaconda3/lib/python3.9/site-packages/pandas/core/indexing.py:716\u001b[0m, in \u001b[0;36m_LocationIndexer.__setitem__\u001b[0;34m(self, key, value)\u001b[0m\n\u001b[1;32m    713\u001b[0m \u001b[38;5;28mself\u001b[39m\u001b[38;5;241m.\u001b[39m_has_valid_setitem_indexer(key)\n\u001b[1;32m    715\u001b[0m iloc \u001b[38;5;241m=\u001b[39m \u001b[38;5;28mself\u001b[39m \u001b[38;5;28;01mif\u001b[39;00m \u001b[38;5;28mself\u001b[39m\u001b[38;5;241m.\u001b[39mname \u001b[38;5;241m==\u001b[39m \u001b[38;5;124m\"\u001b[39m\u001b[38;5;124miloc\u001b[39m\u001b[38;5;124m\"\u001b[39m \u001b[38;5;28;01melse\u001b[39;00m \u001b[38;5;28mself\u001b[39m\u001b[38;5;241m.\u001b[39mobj\u001b[38;5;241m.\u001b[39miloc\n\u001b[0;32m--> 716\u001b[0m \u001b[43miloc\u001b[49m\u001b[38;5;241;43m.\u001b[39;49m\u001b[43m_setitem_with_indexer\u001b[49m\u001b[43m(\u001b[49m\u001b[43mindexer\u001b[49m\u001b[43m,\u001b[49m\u001b[43m \u001b[49m\u001b[43mvalue\u001b[49m\u001b[43m,\u001b[49m\u001b[43m \u001b[49m\u001b[38;5;28;43mself\u001b[39;49m\u001b[38;5;241;43m.\u001b[39;49m\u001b[43mname\u001b[49m\u001b[43m)\u001b[49m\n",
      "File \u001b[0;32m~/anaconda3/lib/python3.9/site-packages/pandas/core/indexing.py:1688\u001b[0m, in \u001b[0;36m_iLocIndexer._setitem_with_indexer\u001b[0;34m(self, indexer, value, name)\u001b[0m\n\u001b[1;32m   1685\u001b[0m \u001b[38;5;66;03m# align and set the values\u001b[39;00m\n\u001b[1;32m   1686\u001b[0m \u001b[38;5;28;01mif\u001b[39;00m take_split_path:\n\u001b[1;32m   1687\u001b[0m     \u001b[38;5;66;03m# We have to operate column-wise\u001b[39;00m\n\u001b[0;32m-> 1688\u001b[0m     \u001b[38;5;28;43mself\u001b[39;49m\u001b[38;5;241;43m.\u001b[39;49m\u001b[43m_setitem_with_indexer_split_path\u001b[49m\u001b[43m(\u001b[49m\u001b[43mindexer\u001b[49m\u001b[43m,\u001b[49m\u001b[43m \u001b[49m\u001b[43mvalue\u001b[49m\u001b[43m,\u001b[49m\u001b[43m \u001b[49m\u001b[43mname\u001b[49m\u001b[43m)\u001b[49m\n\u001b[1;32m   1689\u001b[0m \u001b[38;5;28;01melse\u001b[39;00m:\n\u001b[1;32m   1690\u001b[0m     \u001b[38;5;28mself\u001b[39m\u001b[38;5;241m.\u001b[39m_setitem_single_block(indexer, value, name)\n",
      "File \u001b[0;32m~/anaconda3/lib/python3.9/site-packages/pandas/core/indexing.py:1779\u001b[0m, in \u001b[0;36m_iLocIndexer._setitem_with_indexer_split_path\u001b[0;34m(self, indexer, value, name)\u001b[0m\n\u001b[1;32m   1775\u001b[0m \u001b[38;5;28;01melse\u001b[39;00m:\n\u001b[1;32m   1776\u001b[0m \n\u001b[1;32m   1777\u001b[0m     \u001b[38;5;66;03m# scalar value\u001b[39;00m\n\u001b[1;32m   1778\u001b[0m     \u001b[38;5;28;01mfor\u001b[39;00m loc \u001b[38;5;129;01min\u001b[39;00m ilocs:\n\u001b[0;32m-> 1779\u001b[0m         \u001b[38;5;28;43mself\u001b[39;49m\u001b[38;5;241;43m.\u001b[39;49m\u001b[43m_setitem_single_column\u001b[49m\u001b[43m(\u001b[49m\u001b[43mloc\u001b[49m\u001b[43m,\u001b[49m\u001b[43m \u001b[49m\u001b[43mvalue\u001b[49m\u001b[43m,\u001b[49m\u001b[43m \u001b[49m\u001b[43mpi\u001b[49m\u001b[43m)\u001b[49m\n",
      "File \u001b[0;32m~/anaconda3/lib/python3.9/site-packages/pandas/core/indexing.py:1885\u001b[0m, in \u001b[0;36m_iLocIndexer._setitem_single_column\u001b[0;34m(self, loc, value, plane_indexer)\u001b[0m\n\u001b[1;32m   1879\u001b[0m \u001b[38;5;28;01melse\u001b[39;00m:\n\u001b[1;32m   1880\u001b[0m     \u001b[38;5;66;03m# set the item, first attempting to operate inplace, then\u001b[39;00m\n\u001b[1;32m   1881\u001b[0m     \u001b[38;5;66;03m#  falling back to casting if necessary; see\u001b[39;00m\n\u001b[1;32m   1882\u001b[0m     \u001b[38;5;66;03m#  _whatsnew_130.notable_bug_fixes.setitem_column_try_inplace\u001b[39;00m\n\u001b[1;32m   1884\u001b[0m     orig_values \u001b[38;5;241m=\u001b[39m ser\u001b[38;5;241m.\u001b[39m_values\n\u001b[0;32m-> 1885\u001b[0m     ser\u001b[38;5;241m.\u001b[39m_mgr \u001b[38;5;241m=\u001b[39m \u001b[43mser\u001b[49m\u001b[38;5;241;43m.\u001b[39;49m\u001b[43m_mgr\u001b[49m\u001b[38;5;241;43m.\u001b[39;49m\u001b[43msetitem\u001b[49m\u001b[43m(\u001b[49m\u001b[43m(\u001b[49m\u001b[43mpi\u001b[49m\u001b[43m,\u001b[49m\u001b[43m)\u001b[49m\u001b[43m,\u001b[49m\u001b[43m \u001b[49m\u001b[43mvalue\u001b[49m\u001b[43m)\u001b[49m\n\u001b[1;32m   1887\u001b[0m     \u001b[38;5;28;01mif\u001b[39;00m ser\u001b[38;5;241m.\u001b[39m_values \u001b[38;5;129;01mis\u001b[39;00m orig_values:\n\u001b[1;32m   1888\u001b[0m         \u001b[38;5;66;03m# The setitem happened inplace, so the DataFrame's values\u001b[39;00m\n\u001b[1;32m   1889\u001b[0m         \u001b[38;5;66;03m#  were modified inplace.\u001b[39;00m\n\u001b[1;32m   1890\u001b[0m         \u001b[38;5;28;01mreturn\u001b[39;00m\n",
      "File \u001b[0;32m~/anaconda3/lib/python3.9/site-packages/pandas/core/internals/managers.py:337\u001b[0m, in \u001b[0;36mBaseBlockManager.setitem\u001b[0;34m(self, indexer, value)\u001b[0m\n\u001b[1;32m    331\u001b[0m \u001b[38;5;28;01mdef\u001b[39;00m \u001b[38;5;21msetitem\u001b[39m(\u001b[38;5;28mself\u001b[39m: T, indexer, value) \u001b[38;5;241m-\u001b[39m\u001b[38;5;241m>\u001b[39m T:\n\u001b[1;32m    332\u001b[0m \u001b[38;5;250m    \u001b[39m\u001b[38;5;124;03m\"\"\"\u001b[39;00m\n\u001b[1;32m    333\u001b[0m \u001b[38;5;124;03m    Set values with indexer.\u001b[39;00m\n\u001b[1;32m    334\u001b[0m \n\u001b[1;32m    335\u001b[0m \u001b[38;5;124;03m    For SingleBlockManager, this backs s[indexer] = value\u001b[39;00m\n\u001b[1;32m    336\u001b[0m \u001b[38;5;124;03m    \"\"\"\u001b[39;00m\n\u001b[0;32m--> 337\u001b[0m     \u001b[38;5;28;01mreturn\u001b[39;00m \u001b[38;5;28;43mself\u001b[39;49m\u001b[38;5;241;43m.\u001b[39;49m\u001b[43mapply\u001b[49m\u001b[43m(\u001b[49m\u001b[38;5;124;43m\"\u001b[39;49m\u001b[38;5;124;43msetitem\u001b[39;49m\u001b[38;5;124;43m\"\u001b[39;49m\u001b[43m,\u001b[49m\u001b[43m \u001b[49m\u001b[43mindexer\u001b[49m\u001b[38;5;241;43m=\u001b[39;49m\u001b[43mindexer\u001b[49m\u001b[43m,\u001b[49m\u001b[43m \u001b[49m\u001b[43mvalue\u001b[49m\u001b[38;5;241;43m=\u001b[39;49m\u001b[43mvalue\u001b[49m\u001b[43m)\u001b[49m\n",
      "File \u001b[0;32m~/anaconda3/lib/python3.9/site-packages/pandas/core/internals/managers.py:304\u001b[0m, in \u001b[0;36mBaseBlockManager.apply\u001b[0;34m(self, f, align_keys, ignore_failures, **kwargs)\u001b[0m\n\u001b[1;32m    302\u001b[0m         applied \u001b[38;5;241m=\u001b[39m b\u001b[38;5;241m.\u001b[39mapply(f, \u001b[38;5;241m*\u001b[39m\u001b[38;5;241m*\u001b[39mkwargs)\n\u001b[1;32m    303\u001b[0m     \u001b[38;5;28;01melse\u001b[39;00m:\n\u001b[0;32m--> 304\u001b[0m         applied \u001b[38;5;241m=\u001b[39m \u001b[38;5;28;43mgetattr\u001b[39;49m\u001b[43m(\u001b[49m\u001b[43mb\u001b[49m\u001b[43m,\u001b[49m\u001b[43m \u001b[49m\u001b[43mf\u001b[49m\u001b[43m)\u001b[49m\u001b[43m(\u001b[49m\u001b[38;5;241;43m*\u001b[39;49m\u001b[38;5;241;43m*\u001b[39;49m\u001b[43mkwargs\u001b[49m\u001b[43m)\u001b[49m\n\u001b[1;32m    305\u001b[0m \u001b[38;5;28;01mexcept\u001b[39;00m (\u001b[38;5;167;01mTypeError\u001b[39;00m, \u001b[38;5;167;01mNotImplementedError\u001b[39;00m):\n\u001b[1;32m    306\u001b[0m     \u001b[38;5;28;01mif\u001b[39;00m \u001b[38;5;129;01mnot\u001b[39;00m ignore_failures:\n",
      "File \u001b[0;32m~/anaconda3/lib/python3.9/site-packages/pandas/core/internals/blocks.py:956\u001b[0m, in \u001b[0;36mBlock.setitem\u001b[0;34m(self, indexer, value)\u001b[0m\n\u001b[1;32m    953\u001b[0m     values[indexer] \u001b[38;5;241m=\u001b[39m value\n\u001b[1;32m    955\u001b[0m \u001b[38;5;28;01melse\u001b[39;00m:\n\u001b[0;32m--> 956\u001b[0m     value \u001b[38;5;241m=\u001b[39m setitem_datetimelike_compat(values, \u001b[38;5;28mlen\u001b[39m(\u001b[43mvalues\u001b[49m\u001b[43m[\u001b[49m\u001b[43mindexer\u001b[49m\u001b[43m]\u001b[49m), value)\n\u001b[1;32m    957\u001b[0m     values[indexer] \u001b[38;5;241m=\u001b[39m value\n\u001b[1;32m    959\u001b[0m \u001b[38;5;28;01mreturn\u001b[39;00m \u001b[38;5;28mself\u001b[39m\n",
      "\u001b[0;31mIndexError\u001b[0m: index 346 is out of bounds for axis 0 with size 346"
     ]
    }
   ],
   "source": [
    "# Define parameters for the CategoricalAbstraction\n",
    "cols = [col for col in data.columns if 'categorical' in col]\n",
    "match = ['exact' for _ in cols]\n",
    "min_support = 0.1\n",
    "window_size = 10\n",
    "max_pattern_size = 1\n",
    "\n",
    "# Instantiate the CategoricalAbstraction class\n",
    "ca = CategoricalAbstraction()\n",
    "\n",
    "# Extract unique trials\n",
    "trials = data[['language', 'tone', 'participant', 'script']].drop_duplicates()\n",
    "abstracted_data = pd.DataFrame()\n",
    "\n",
    "# Loop over each unique trial\n",
    "for trial in trials.itertuples(index=False, name=None):\n",
    "    language, tone, participant, script = trial\n",
    "    \n",
    "    # Select data for the current trial\n",
    "    trial_data = data[(data['language'] == language) & \n",
    "                     (data['tone'] == tone) & \n",
    "                     (data['participant'] == participant) & \n",
    "                     (data['script'] == script)]\n",
    "    \n",
    "    print(trial_data.shape)\n",
    "    # Perform temporal abstraction on the current trial data\n",
    "    abstracted_trial = ca.abstract_categorical(trial_data, cols, match, min_support, window_size, max_pattern_size)\n",
    "    abstracted_data = pd.concat([abstracted_data, abstracted_trial])\n",
    "\n",
    "\n",
    "# Save the resulting dataset with abstracted patterns\n",
    "output_path = '/Users/macbookair/Desktop/ML4QS_Group125/data_w_features/data_w_temporal_patterns.csv'\n",
    "abstracted_data.to_csv(output_path, index=False)\n",
    "\n",
    "abstracted_data.head()\n"
   ]
  },
  {
   "cell_type": "code",
   "execution_count": null,
   "metadata": {},
   "outputs": [],
   "source": []
  }
 ],
 "metadata": {
  "kernelspec": {
   "display_name": "base",
   "language": "python",
   "name": "python3"
  },
  "language_info": {
   "codemirror_mode": {
    "name": "ipython",
    "version": 3
   },
   "file_extension": ".py",
   "mimetype": "text/x-python",
   "name": "python",
   "nbconvert_exporter": "python",
   "pygments_lexer": "ipython3",
   "version": "3.9.12"
  }
 },
 "nbformat": 4,
 "nbformat_minor": 2
}
