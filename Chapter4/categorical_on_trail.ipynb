{
 "cells": [
  {
   "cell_type": "code",
   "execution_count": 1,
   "metadata": {},
   "outputs": [],
   "source": [
    "import pandas as pd\n",
    "from TemporalAbstraction import CategoricalAbstraction\n",
    "from sklearn.cluster import KMeans\n",
    "import numpy as np"
   ]
  },
  {
   "cell_type": "code",
   "execution_count": 2,
   "metadata": {},
   "outputs": [],
   "source": [
    "file_path = '/Users/macbookair/Desktop/ML4QS_Group125/data_w_features_ver2/data_w_fourier_and_autocorr_0.5.csv'\n",
    "data = pd.read_csv(file_path)"
   ]
  },
  {
   "cell_type": "code",
   "execution_count": 3,
   "metadata": {},
   "outputs": [],
   "source": [
    "# Identify columns of interest\n",
    "columns_of_interest = [\n",
    "    'amplitude_mean_kalman', 'pitch_mean_kalman', 'sound_intensity_mean_kalman']"
   ]
  },
  {
   "cell_type": "code",
   "execution_count": 4,
   "metadata": {},
   "outputs": [],
   "source": [
    "# Function to categorize a feature using k-means clustering\n",
    "def categorize_feature(data, n_clusters=3):\n",
    "    # Identify columns of interest\n",
    "    columns_of_interest = ['amplitude_mean_kalman', 'pitch_mean_kalman', 'sound_intensity_mean_kalman']\n",
    "    for feature in columns_of_interest:\n",
    "        kmeans = KMeans(n_clusters=n_clusters, random_state=0)\n",
    "        data[f'{feature}_categorical'] = kmeans.fit_predict(data[[feature]])\n",
    "        \n",
    "        # Assign meaningful category names\n",
    "        centroids = kmeans.cluster_centers_.flatten()\n",
    "        sorted_centroids = np.argsort(centroids)\n",
    "        category_names = ['low', 'medium', 'high']\n",
    "        mapping = {sorted_centroids[i]: category_names[i] for i in range(n_clusters)}\n",
    "        \n",
    "        data[f'{feature}_categorical'] = data[f'{feature}_categorical'].map(mapping)\n",
    "    return data\n"
   ]
  },
  {
   "cell_type": "code",
   "execution_count": 5,
   "metadata": {},
   "outputs": [],
   "source": [
    "# Group the data by language, tone, participant, and script\n",
    "grouped_data = data.groupby(['language', 'tone', 'participant', 'script'])\n",
    "\n",
    "# Define a function to process each group\n",
    "def process_group(group):\n",
    "    # Remove the first 10 rows of the group\n",
    "    group = group.iloc[3:]\n",
    "    return group\n",
    "\n",
    "# Apply the process_group function to each group and reset the index\n",
    "processed_data = grouped_data.apply(categorize_feature).reset_index(drop=True)\n",
    "\n",
    "# Merge the processed data back into the original data\n",
    "data = pd.concat([data[['language', 'tone', 'participant', 'script']], processed_data], axis=1)\n"
   ]
  },
  {
   "cell_type": "code",
   "execution_count": 6,
   "metadata": {},
   "outputs": [
    {
     "name": "stdout",
     "output_type": "stream",
     "text": [
      "amplitude_mean_kalman_categorical\n",
      "high      5739\n",
      "low       2421\n",
      "medium    5979\n",
      "dtype: int64\n",
      "pitch_mean_kalman_categorical\n",
      "high       911\n",
      "low       7811\n",
      "medium    5417\n",
      "dtype: int64\n",
      "sound_intensity_mean_kalman_categorical\n",
      "high      6951\n",
      "low       1568\n",
      "medium    5620\n",
      "dtype: int64\n"
     ]
    }
   ],
   "source": [
    "\n",
    "# Display the number of each category for each column\n",
    "for feature in columns_of_interest:\n",
    "    print(data.groupby([f'{feature}_categorical']).size())  "
   ]
  },
  {
   "cell_type": "code",
   "execution_count": 7,
   "metadata": {},
   "outputs": [
    {
     "name": "stdout",
     "output_type": "stream",
     "text": [
      "['language', 'tone', 'participant', 'script', 'time_0.5', 'language', 'tone', 'participant', 'script', 'sound_intensity_max', 'sound_intensity_min', 'sound_intensity_mean', 'sound_intensity_median', 'sound_intensity_std', 'sound_intensity_missing', 'pitch_max', 'pitch_min', 'pitch_mean', 'pitch_median', 'pitch_std', 'pitch_missing', 'amplitude_mean', 'amplitude_max', 'amplitude_min', 'amplitude_median', 'amplitude_std', 'amplitude_missing', 'amplitude_mean_lowpass', 'pitch_mean_lowpass', 'sound_intensity_mean_lowpass', 'amplitude_mean_kalman', 'pitch_mean_kalman', 'sound_intensity_mean_kalman', 'sound_intensity_mean_kalman_max_freq', 'sound_intensity_mean_kalman_freq_weighted', 'sound_intensity_mean_kalman_pse', 'sound_intensity_mean_kalman_freq_0.0_Hz_ws_10', 'sound_intensity_mean_kalman_freq_0.1_Hz_ws_10', 'sound_intensity_mean_kalman_freq_0.2_Hz_ws_10', 'sound_intensity_mean_kalman_freq_0.3_Hz_ws_10', 'sound_intensity_mean_kalman_freq_0.4_Hz_ws_10', 'sound_intensity_mean_kalman_freq_0.5_Hz_ws_10', 'amplitude_mean_kalman_max_freq', 'amplitude_mean_kalman_freq_weighted', 'amplitude_mean_kalman_pse', 'amplitude_mean_kalman_freq_0.0_Hz_ws_10', 'amplitude_mean_kalman_freq_0.1_Hz_ws_10', 'amplitude_mean_kalman_freq_0.2_Hz_ws_10', 'amplitude_mean_kalman_freq_0.3_Hz_ws_10', 'amplitude_mean_kalman_freq_0.4_Hz_ws_10', 'amplitude_mean_kalman_freq_0.5_Hz_ws_10', 'pitch_mean_kalman_max_freq', 'pitch_mean_kalman_freq_weighted', 'pitch_mean_kalman_pse', 'pitch_mean_kalman_freq_0.0_Hz_ws_10', 'pitch_mean_kalman_freq_0.1_Hz_ws_10', 'pitch_mean_kalman_freq_0.2_Hz_ws_10', 'pitch_mean_kalman_freq_0.3_Hz_ws_10', 'pitch_mean_kalman_freq_0.4_Hz_ws_10', 'pitch_mean_kalman_freq_0.5_Hz_ws_10', 'amplitude_autocorr_lag_1', 'sound_intensity_autocorr_lag_1', 'amplitude_autocorr_lag_2', 'sound_intensity_autocorr_lag_2', 'amplitude_autocorr_lag_3', 'sound_intensity_autocorr_lag_3', 'amplitude_autocorr_lag_4', 'sound_intensity_autocorr_lag_4', 'amplitude_autocorr_lag_5', 'sound_intensity_autocorr_lag_5', 'amplitude_mean_kalman_categorical', 'pitch_mean_kalman_categorical', 'sound_intensity_mean_kalman_categorical']\n"
     ]
    }
   ],
   "source": [
    "# Print out the column names to verify\n",
    "print(data.columns.tolist())"
   ]
  },
  {
   "cell_type": "code",
   "execution_count": 8,
   "metadata": {},
   "outputs": [],
   "source": [
    "data.to_csv('/Users/macbookair/Desktop/ML4QS_Group125/data_w_features_ver2/data_w_all_features_on_0.5_secs_with_categorical.csv', index=False)"
   ]
  },
  {
   "cell_type": "code",
   "execution_count": 9,
   "metadata": {},
   "outputs": [],
   "source": [
    "# One-hot encode the categorical columns\n",
    "categorical_cols = [f'{feature}_categorical' for feature in columns_of_interest]\n",
    "data = pd.get_dummies(data, columns=categorical_cols, prefix=categorical_cols)\n",
    "\n"
   ]
  },
  {
   "cell_type": "code",
   "execution_count": 10,
   "metadata": {},
   "outputs": [
    {
     "name": "stdout",
     "output_type": "stream",
     "text": [
      "amplitude_mean_kalman_categorical_high\n",
      "amplitude_mean_kalman_categorical_low\n",
      "amplitude_mean_kalman_categorical_medium\n",
      "pitch_mean_kalman_categorical_low\n",
      "pitch_mean_kalman_categorical_medium\n",
      "sound_intensity_mean_kalman_categorical_high\n",
      "sound_intensity_mean_kalman_categorical_low\n",
      "sound_intensity_mean_kalman_categorical_medium\n",
      "Number of patterns of size 1 is 8\n",
      "amplitude_mean_kalman_categorical_high(b)amplitude_mean_kalman_categorical_high\n",
      "amplitude_mean_kalman_categorical_high(b)amplitude_mean_kalman_categorical_medium\n",
      "amplitude_mean_kalman_categorical_high(b)pitch_mean_kalman_categorical_low\n",
      "amplitude_mean_kalman_categorical_high(c)pitch_mean_kalman_categorical_low\n",
      "amplitude_mean_kalman_categorical_high(b)pitch_mean_kalman_categorical_medium\n",
      "amplitude_mean_kalman_categorical_high(c)pitch_mean_kalman_categorical_medium\n",
      "amplitude_mean_kalman_categorical_high(b)sound_intensity_mean_kalman_categorical_high\n",
      "amplitude_mean_kalman_categorical_high(c)sound_intensity_mean_kalman_categorical_high\n",
      "amplitude_mean_kalman_categorical_high(b)sound_intensity_mean_kalman_categorical_medium\n",
      "amplitude_mean_kalman_categorical_low(b)amplitude_mean_kalman_categorical_medium\n",
      "amplitude_mean_kalman_categorical_low(b)pitch_mean_kalman_categorical_low\n",
      "amplitude_mean_kalman_categorical_low(c)pitch_mean_kalman_categorical_low\n",
      "amplitude_mean_kalman_categorical_low(b)pitch_mean_kalman_categorical_medium\n",
      "amplitude_mean_kalman_categorical_low(b)sound_intensity_mean_kalman_categorical_high\n",
      "amplitude_mean_kalman_categorical_low(b)sound_intensity_mean_kalman_categorical_medium\n",
      "amplitude_mean_kalman_categorical_medium(b)amplitude_mean_kalman_categorical_high\n",
      "amplitude_mean_kalman_categorical_medium(b)amplitude_mean_kalman_categorical_low\n",
      "amplitude_mean_kalman_categorical_medium(b)amplitude_mean_kalman_categorical_medium\n",
      "amplitude_mean_kalman_categorical_medium(b)pitch_mean_kalman_categorical_low\n",
      "amplitude_mean_kalman_categorical_medium(c)pitch_mean_kalman_categorical_low\n",
      "amplitude_mean_kalman_categorical_medium(b)pitch_mean_kalman_categorical_medium\n",
      "amplitude_mean_kalman_categorical_medium(c)pitch_mean_kalman_categorical_medium\n",
      "amplitude_mean_kalman_categorical_medium(b)sound_intensity_mean_kalman_categorical_high\n",
      "amplitude_mean_kalman_categorical_medium(c)sound_intensity_mean_kalman_categorical_high\n",
      "amplitude_mean_kalman_categorical_medium(b)sound_intensity_mean_kalman_categorical_medium\n",
      "amplitude_mean_kalman_categorical_medium(c)sound_intensity_mean_kalman_categorical_medium\n",
      "pitch_mean_kalman_categorical_low(b)amplitude_mean_kalman_categorical_high\n",
      "pitch_mean_kalman_categorical_low(c)amplitude_mean_kalman_categorical_high\n",
      "pitch_mean_kalman_categorical_low(b)amplitude_mean_kalman_categorical_low\n",
      "pitch_mean_kalman_categorical_low(c)amplitude_mean_kalman_categorical_low\n",
      "pitch_mean_kalman_categorical_low(b)amplitude_mean_kalman_categorical_medium\n",
      "pitch_mean_kalman_categorical_low(c)amplitude_mean_kalman_categorical_medium\n",
      "pitch_mean_kalman_categorical_low(b)pitch_mean_kalman_categorical_low\n",
      "pitch_mean_kalman_categorical_low(b)pitch_mean_kalman_categorical_medium\n",
      "pitch_mean_kalman_categorical_low(b)sound_intensity_mean_kalman_categorical_high\n",
      "pitch_mean_kalman_categorical_low(c)sound_intensity_mean_kalman_categorical_high\n",
      "pitch_mean_kalman_categorical_low(c)sound_intensity_mean_kalman_categorical_low\n",
      "pitch_mean_kalman_categorical_low(b)sound_intensity_mean_kalman_categorical_medium\n",
      "pitch_mean_kalman_categorical_low(c)sound_intensity_mean_kalman_categorical_medium\n",
      "pitch_mean_kalman_categorical_medium(b)amplitude_mean_kalman_categorical_high\n",
      "pitch_mean_kalman_categorical_medium(c)amplitude_mean_kalman_categorical_high\n",
      "pitch_mean_kalman_categorical_medium(b)amplitude_mean_kalman_categorical_medium\n",
      "pitch_mean_kalman_categorical_medium(c)amplitude_mean_kalman_categorical_medium\n",
      "pitch_mean_kalman_categorical_medium(b)pitch_mean_kalman_categorical_low\n",
      "pitch_mean_kalman_categorical_medium(b)pitch_mean_kalman_categorical_medium\n",
      "pitch_mean_kalman_categorical_medium(b)sound_intensity_mean_kalman_categorical_high\n",
      "pitch_mean_kalman_categorical_medium(c)sound_intensity_mean_kalman_categorical_high\n",
      "pitch_mean_kalman_categorical_medium(b)sound_intensity_mean_kalman_categorical_medium\n",
      "pitch_mean_kalman_categorical_medium(c)sound_intensity_mean_kalman_categorical_medium\n",
      "sound_intensity_mean_kalman_categorical_high(b)amplitude_mean_kalman_categorical_high\n",
      "sound_intensity_mean_kalman_categorical_high(c)amplitude_mean_kalman_categorical_high\n",
      "sound_intensity_mean_kalman_categorical_high(b)amplitude_mean_kalman_categorical_medium\n",
      "sound_intensity_mean_kalman_categorical_high(c)amplitude_mean_kalman_categorical_medium\n",
      "sound_intensity_mean_kalman_categorical_high(b)pitch_mean_kalman_categorical_low\n",
      "sound_intensity_mean_kalman_categorical_high(c)pitch_mean_kalman_categorical_low\n",
      "sound_intensity_mean_kalman_categorical_high(b)pitch_mean_kalman_categorical_medium\n",
      "sound_intensity_mean_kalman_categorical_high(c)pitch_mean_kalman_categorical_medium\n",
      "sound_intensity_mean_kalman_categorical_high(b)sound_intensity_mean_kalman_categorical_high\n",
      "sound_intensity_mean_kalman_categorical_high(b)sound_intensity_mean_kalman_categorical_medium\n",
      "sound_intensity_mean_kalman_categorical_low(b)pitch_mean_kalman_categorical_low\n",
      "sound_intensity_mean_kalman_categorical_low(c)pitch_mean_kalman_categorical_low\n",
      "sound_intensity_mean_kalman_categorical_medium(b)amplitude_mean_kalman_categorical_high\n",
      "sound_intensity_mean_kalman_categorical_medium(b)amplitude_mean_kalman_categorical_low\n",
      "sound_intensity_mean_kalman_categorical_medium(b)amplitude_mean_kalman_categorical_medium\n",
      "sound_intensity_mean_kalman_categorical_medium(c)amplitude_mean_kalman_categorical_medium\n",
      "sound_intensity_mean_kalman_categorical_medium(b)pitch_mean_kalman_categorical_low\n",
      "sound_intensity_mean_kalman_categorical_medium(c)pitch_mean_kalman_categorical_low\n",
      "sound_intensity_mean_kalman_categorical_medium(b)pitch_mean_kalman_categorical_medium\n",
      "sound_intensity_mean_kalman_categorical_medium(c)pitch_mean_kalman_categorical_medium\n",
      "sound_intensity_mean_kalman_categorical_medium(b)sound_intensity_mean_kalman_categorical_high\n",
      "sound_intensity_mean_kalman_categorical_medium(b)sound_intensity_mean_kalman_categorical_medium\n",
      "Number of patterns of size 2 is 71\n",
      "amplitude_mean_kalman_categorical_high(b)amplitude_mean_kalman_categorical_high\n",
      "amplitude_mean_kalman_categorical_high(b)amplitude_mean_kalman_categorical_medium\n",
      "amplitude_mean_kalman_categorical_high(b)pitch_mean_kalman_categorical_low\n",
      "amplitude_mean_kalman_categorical_high(c)pitch_mean_kalman_categorical_low\n",
      "amplitude_mean_kalman_categorical_high(b)pitch_mean_kalman_categorical_medium\n",
      "amplitude_mean_kalman_categorical_high(c)pitch_mean_kalman_categorical_medium\n",
      "amplitude_mean_kalman_categorical_high(b)sound_intensity_mean_kalman_categorical_high\n",
      "amplitude_mean_kalman_categorical_high(c)sound_intensity_mean_kalman_categorical_high\n",
      "amplitude_mean_kalman_categorical_high(b)sound_intensity_mean_kalman_categorical_medium\n",
      "amplitude_mean_kalman_categorical_low(b)amplitude_mean_kalman_categorical_medium\n",
      "amplitude_mean_kalman_categorical_low(b)pitch_mean_kalman_categorical_low\n",
      "amplitude_mean_kalman_categorical_low(c)pitch_mean_kalman_categorical_low\n",
      "amplitude_mean_kalman_categorical_low(b)pitch_mean_kalman_categorical_medium\n",
      "amplitude_mean_kalman_categorical_low(b)sound_intensity_mean_kalman_categorical_high\n",
      "amplitude_mean_kalman_categorical_low(b)sound_intensity_mean_kalman_categorical_medium\n",
      "amplitude_mean_kalman_categorical_medium(b)amplitude_mean_kalman_categorical_high\n",
      "amplitude_mean_kalman_categorical_medium(b)amplitude_mean_kalman_categorical_low\n",
      "amplitude_mean_kalman_categorical_medium(b)amplitude_mean_kalman_categorical_medium\n",
      "amplitude_mean_kalman_categorical_medium(b)pitch_mean_kalman_categorical_low\n",
      "amplitude_mean_kalman_categorical_medium(c)pitch_mean_kalman_categorical_low\n",
      "amplitude_mean_kalman_categorical_medium(b)pitch_mean_kalman_categorical_medium\n",
      "amplitude_mean_kalman_categorical_medium(c)pitch_mean_kalman_categorical_medium\n",
      "amplitude_mean_kalman_categorical_medium(b)sound_intensity_mean_kalman_categorical_high\n",
      "amplitude_mean_kalman_categorical_medium(c)sound_intensity_mean_kalman_categorical_high\n",
      "amplitude_mean_kalman_categorical_medium(b)sound_intensity_mean_kalman_categorical_medium\n",
      "amplitude_mean_kalman_categorical_medium(c)sound_intensity_mean_kalman_categorical_medium\n",
      "pitch_mean_kalman_categorical_low(b)amplitude_mean_kalman_categorical_high\n",
      "pitch_mean_kalman_categorical_low(c)amplitude_mean_kalman_categorical_high\n",
      "pitch_mean_kalman_categorical_low(b)amplitude_mean_kalman_categorical_low\n",
      "pitch_mean_kalman_categorical_low(c)amplitude_mean_kalman_categorical_low\n",
      "pitch_mean_kalman_categorical_low(b)amplitude_mean_kalman_categorical_medium\n",
      "pitch_mean_kalman_categorical_low(c)amplitude_mean_kalman_categorical_medium\n",
      "pitch_mean_kalman_categorical_low(b)pitch_mean_kalman_categorical_low\n",
      "pitch_mean_kalman_categorical_low(b)pitch_mean_kalman_categorical_medium\n",
      "pitch_mean_kalman_categorical_low(b)sound_intensity_mean_kalman_categorical_high\n",
      "pitch_mean_kalman_categorical_low(c)sound_intensity_mean_kalman_categorical_high\n",
      "pitch_mean_kalman_categorical_low(c)sound_intensity_mean_kalman_categorical_low\n",
      "pitch_mean_kalman_categorical_low(b)sound_intensity_mean_kalman_categorical_medium\n",
      "pitch_mean_kalman_categorical_low(c)sound_intensity_mean_kalman_categorical_medium\n",
      "pitch_mean_kalman_categorical_medium(b)amplitude_mean_kalman_categorical_high\n",
      "pitch_mean_kalman_categorical_medium(c)amplitude_mean_kalman_categorical_high\n",
      "pitch_mean_kalman_categorical_medium(b)amplitude_mean_kalman_categorical_medium\n",
      "pitch_mean_kalman_categorical_medium(c)amplitude_mean_kalman_categorical_medium\n",
      "pitch_mean_kalman_categorical_medium(b)pitch_mean_kalman_categorical_low\n",
      "pitch_mean_kalman_categorical_medium(b)pitch_mean_kalman_categorical_medium\n",
      "pitch_mean_kalman_categorical_medium(b)sound_intensity_mean_kalman_categorical_high\n",
      "pitch_mean_kalman_categorical_medium(c)sound_intensity_mean_kalman_categorical_high\n",
      "pitch_mean_kalman_categorical_medium(b)sound_intensity_mean_kalman_categorical_medium\n",
      "pitch_mean_kalman_categorical_medium(c)sound_intensity_mean_kalman_categorical_medium\n",
      "sound_intensity_mean_kalman_categorical_high(b)amplitude_mean_kalman_categorical_high\n",
      "sound_intensity_mean_kalman_categorical_high(c)amplitude_mean_kalman_categorical_high\n",
      "sound_intensity_mean_kalman_categorical_high(b)amplitude_mean_kalman_categorical_medium\n",
      "sound_intensity_mean_kalman_categorical_high(c)amplitude_mean_kalman_categorical_medium\n",
      "sound_intensity_mean_kalman_categorical_high(b)pitch_mean_kalman_categorical_low\n",
      "sound_intensity_mean_kalman_categorical_high(c)pitch_mean_kalman_categorical_low\n",
      "sound_intensity_mean_kalman_categorical_high(b)pitch_mean_kalman_categorical_medium\n",
      "sound_intensity_mean_kalman_categorical_high(c)pitch_mean_kalman_categorical_medium\n",
      "sound_intensity_mean_kalman_categorical_high(b)sound_intensity_mean_kalman_categorical_high\n",
      "sound_intensity_mean_kalman_categorical_high(b)sound_intensity_mean_kalman_categorical_medium\n",
      "sound_intensity_mean_kalman_categorical_low(b)pitch_mean_kalman_categorical_low\n",
      "sound_intensity_mean_kalman_categorical_low(c)pitch_mean_kalman_categorical_low\n",
      "sound_intensity_mean_kalman_categorical_medium(b)amplitude_mean_kalman_categorical_high\n",
      "sound_intensity_mean_kalman_categorical_medium(b)amplitude_mean_kalman_categorical_low\n",
      "sound_intensity_mean_kalman_categorical_medium(b)amplitude_mean_kalman_categorical_medium\n",
      "sound_intensity_mean_kalman_categorical_medium(c)amplitude_mean_kalman_categorical_medium\n",
      "sound_intensity_mean_kalman_categorical_medium(b)pitch_mean_kalman_categorical_low\n",
      "sound_intensity_mean_kalman_categorical_medium(c)pitch_mean_kalman_categorical_low\n",
      "sound_intensity_mean_kalman_categorical_medium(b)pitch_mean_kalman_categorical_medium\n",
      "sound_intensity_mean_kalman_categorical_medium(c)pitch_mean_kalman_categorical_medium\n",
      "sound_intensity_mean_kalman_categorical_medium(b)sound_intensity_mean_kalman_categorical_high\n",
      "sound_intensity_mean_kalman_categorical_medium(b)sound_intensity_mean_kalman_categorical_medium\n",
      "Number of patterns of size 3 is 71\n"
     ]
    },
    {
     "ename": "ValueError",
     "evalue": "Grouper for 'language' not 1-dimensional",
     "output_type": "error",
     "traceback": [
      "\u001b[0;31m---------------------------------------------------------------------------\u001b[0m",
      "\u001b[0;31mValueError\u001b[0m                                Traceback (most recent call last)",
      "Input \u001b[0;32mIn [10]\u001b[0m, in \u001b[0;36m<cell line: 13>\u001b[0;34m()\u001b[0m\n\u001b[1;32m     11\u001b[0m \u001b[38;5;66;03m# Perform the temporal abstraction on the categorical data\u001b[39;00m\n\u001b[1;32m     12\u001b[0m abstracted_data \u001b[38;5;241m=\u001b[39m ca\u001b[38;5;241m.\u001b[39mabstract_categorical(data, cols, match, min_support, window_size, max_pattern_size)\n\u001b[0;32m---> 13\u001b[0m abstracted_data \u001b[38;5;241m=\u001b[39m \u001b[43mdata\u001b[49m\u001b[38;5;241;43m.\u001b[39;49m\u001b[43mgroupby\u001b[49m\u001b[43m(\u001b[49m\u001b[43m[\u001b[49m\u001b[38;5;124;43m'\u001b[39;49m\u001b[38;5;124;43mlanguage\u001b[39;49m\u001b[38;5;124;43m'\u001b[39;49m\u001b[43m,\u001b[49m\u001b[43m \u001b[49m\u001b[38;5;124;43m'\u001b[39;49m\u001b[38;5;124;43mtone\u001b[39;49m\u001b[38;5;124;43m'\u001b[39;49m\u001b[43m,\u001b[49m\u001b[43m \u001b[49m\u001b[38;5;124;43m'\u001b[39;49m\u001b[38;5;124;43mparticipant\u001b[39;49m\u001b[38;5;124;43m'\u001b[39;49m\u001b[43m,\u001b[49m\u001b[43m \u001b[49m\u001b[38;5;124;43m'\u001b[39;49m\u001b[38;5;124;43mscript\u001b[39;49m\u001b[38;5;124;43m'\u001b[39;49m\u001b[43m]\u001b[49m\u001b[43m)\u001b[49m\n\u001b[1;32m     16\u001b[0m \u001b[38;5;66;03m# Save the resulting dataset with abstracted patterns\u001b[39;00m\n\u001b[1;32m     17\u001b[0m output_path \u001b[38;5;241m=\u001b[39m \u001b[38;5;124m'\u001b[39m\u001b[38;5;124m/Users/macbookair/Desktop/ML4QS_Group125/data_w_features_ver2/data_w_temporal_patterns.csv\u001b[39m\u001b[38;5;124m'\u001b[39m\n",
      "File \u001b[0;32m~/anaconda3/lib/python3.9/site-packages/pandas/core/frame.py:7712\u001b[0m, in \u001b[0;36mDataFrame.groupby\u001b[0;34m(self, by, axis, level, as_index, sort, group_keys, squeeze, observed, dropna)\u001b[0m\n\u001b[1;32m   7707\u001b[0m axis \u001b[38;5;241m=\u001b[39m \u001b[38;5;28mself\u001b[39m\u001b[38;5;241m.\u001b[39m_get_axis_number(axis)\n\u001b[1;32m   7709\u001b[0m \u001b[38;5;66;03m# https://github.com/python/mypy/issues/7642\u001b[39;00m\n\u001b[1;32m   7710\u001b[0m \u001b[38;5;66;03m# error: Argument \"squeeze\" to \"DataFrameGroupBy\" has incompatible type\u001b[39;00m\n\u001b[1;32m   7711\u001b[0m \u001b[38;5;66;03m# \"Union[bool, NoDefault]\"; expected \"bool\"\u001b[39;00m\n\u001b[0;32m-> 7712\u001b[0m \u001b[38;5;28;01mreturn\u001b[39;00m \u001b[43mDataFrameGroupBy\u001b[49m\u001b[43m(\u001b[49m\n\u001b[1;32m   7713\u001b[0m \u001b[43m    \u001b[49m\u001b[43mobj\u001b[49m\u001b[38;5;241;43m=\u001b[39;49m\u001b[38;5;28;43mself\u001b[39;49m\u001b[43m,\u001b[49m\n\u001b[1;32m   7714\u001b[0m \u001b[43m    \u001b[49m\u001b[43mkeys\u001b[49m\u001b[38;5;241;43m=\u001b[39;49m\u001b[43mby\u001b[49m\u001b[43m,\u001b[49m\n\u001b[1;32m   7715\u001b[0m \u001b[43m    \u001b[49m\u001b[43maxis\u001b[49m\u001b[38;5;241;43m=\u001b[39;49m\u001b[43maxis\u001b[49m\u001b[43m,\u001b[49m\n\u001b[1;32m   7716\u001b[0m \u001b[43m    \u001b[49m\u001b[43mlevel\u001b[49m\u001b[38;5;241;43m=\u001b[39;49m\u001b[43mlevel\u001b[49m\u001b[43m,\u001b[49m\n\u001b[1;32m   7717\u001b[0m \u001b[43m    \u001b[49m\u001b[43mas_index\u001b[49m\u001b[38;5;241;43m=\u001b[39;49m\u001b[43mas_index\u001b[49m\u001b[43m,\u001b[49m\n\u001b[1;32m   7718\u001b[0m \u001b[43m    \u001b[49m\u001b[43msort\u001b[49m\u001b[38;5;241;43m=\u001b[39;49m\u001b[43msort\u001b[49m\u001b[43m,\u001b[49m\n\u001b[1;32m   7719\u001b[0m \u001b[43m    \u001b[49m\u001b[43mgroup_keys\u001b[49m\u001b[38;5;241;43m=\u001b[39;49m\u001b[43mgroup_keys\u001b[49m\u001b[43m,\u001b[49m\n\u001b[1;32m   7720\u001b[0m \u001b[43m    \u001b[49m\u001b[43msqueeze\u001b[49m\u001b[38;5;241;43m=\u001b[39;49m\u001b[43msqueeze\u001b[49m\u001b[43m,\u001b[49m\u001b[43m  \u001b[49m\u001b[38;5;66;43;03m# type: ignore[arg-type]\u001b[39;49;00m\n\u001b[1;32m   7721\u001b[0m \u001b[43m    \u001b[49m\u001b[43mobserved\u001b[49m\u001b[38;5;241;43m=\u001b[39;49m\u001b[43mobserved\u001b[49m\u001b[43m,\u001b[49m\n\u001b[1;32m   7722\u001b[0m \u001b[43m    \u001b[49m\u001b[43mdropna\u001b[49m\u001b[38;5;241;43m=\u001b[39;49m\u001b[43mdropna\u001b[49m\u001b[43m,\u001b[49m\n\u001b[1;32m   7723\u001b[0m \u001b[43m\u001b[49m\u001b[43m)\u001b[49m\n",
      "File \u001b[0;32m~/anaconda3/lib/python3.9/site-packages/pandas/core/groupby/groupby.py:882\u001b[0m, in \u001b[0;36mGroupBy.__init__\u001b[0;34m(self, obj, keys, axis, level, grouper, exclusions, selection, as_index, sort, group_keys, squeeze, observed, mutated, dropna)\u001b[0m\n\u001b[1;32m    879\u001b[0m \u001b[38;5;28;01mif\u001b[39;00m grouper \u001b[38;5;129;01mis\u001b[39;00m \u001b[38;5;28;01mNone\u001b[39;00m:\n\u001b[1;32m    880\u001b[0m     \u001b[38;5;28;01mfrom\u001b[39;00m \u001b[38;5;21;01mpandas\u001b[39;00m\u001b[38;5;21;01m.\u001b[39;00m\u001b[38;5;21;01mcore\u001b[39;00m\u001b[38;5;21;01m.\u001b[39;00m\u001b[38;5;21;01mgroupby\u001b[39;00m\u001b[38;5;21;01m.\u001b[39;00m\u001b[38;5;21;01mgrouper\u001b[39;00m \u001b[38;5;28;01mimport\u001b[39;00m get_grouper\n\u001b[0;32m--> 882\u001b[0m     grouper, exclusions, obj \u001b[38;5;241m=\u001b[39m \u001b[43mget_grouper\u001b[49m\u001b[43m(\u001b[49m\n\u001b[1;32m    883\u001b[0m \u001b[43m        \u001b[49m\u001b[43mobj\u001b[49m\u001b[43m,\u001b[49m\n\u001b[1;32m    884\u001b[0m \u001b[43m        \u001b[49m\u001b[43mkeys\u001b[49m\u001b[43m,\u001b[49m\n\u001b[1;32m    885\u001b[0m \u001b[43m        \u001b[49m\u001b[43maxis\u001b[49m\u001b[38;5;241;43m=\u001b[39;49m\u001b[43maxis\u001b[49m\u001b[43m,\u001b[49m\n\u001b[1;32m    886\u001b[0m \u001b[43m        \u001b[49m\u001b[43mlevel\u001b[49m\u001b[38;5;241;43m=\u001b[39;49m\u001b[43mlevel\u001b[49m\u001b[43m,\u001b[49m\n\u001b[1;32m    887\u001b[0m \u001b[43m        \u001b[49m\u001b[43msort\u001b[49m\u001b[38;5;241;43m=\u001b[39;49m\u001b[43msort\u001b[49m\u001b[43m,\u001b[49m\n\u001b[1;32m    888\u001b[0m \u001b[43m        \u001b[49m\u001b[43mobserved\u001b[49m\u001b[38;5;241;43m=\u001b[39;49m\u001b[43mobserved\u001b[49m\u001b[43m,\u001b[49m\n\u001b[1;32m    889\u001b[0m \u001b[43m        \u001b[49m\u001b[43mmutated\u001b[49m\u001b[38;5;241;43m=\u001b[39;49m\u001b[38;5;28;43mself\u001b[39;49m\u001b[38;5;241;43m.\u001b[39;49m\u001b[43mmutated\u001b[49m\u001b[43m,\u001b[49m\n\u001b[1;32m    890\u001b[0m \u001b[43m        \u001b[49m\u001b[43mdropna\u001b[49m\u001b[38;5;241;43m=\u001b[39;49m\u001b[38;5;28;43mself\u001b[39;49m\u001b[38;5;241;43m.\u001b[39;49m\u001b[43mdropna\u001b[49m\u001b[43m,\u001b[49m\n\u001b[1;32m    891\u001b[0m \u001b[43m    \u001b[49m\u001b[43m)\u001b[49m\n\u001b[1;32m    893\u001b[0m \u001b[38;5;28mself\u001b[39m\u001b[38;5;241m.\u001b[39mobj \u001b[38;5;241m=\u001b[39m obj\n\u001b[1;32m    894\u001b[0m \u001b[38;5;28mself\u001b[39m\u001b[38;5;241m.\u001b[39maxis \u001b[38;5;241m=\u001b[39m obj\u001b[38;5;241m.\u001b[39m_get_axis_number(axis)\n",
      "File \u001b[0;32m~/anaconda3/lib/python3.9/site-packages/pandas/core/groupby/grouper.py:877\u001b[0m, in \u001b[0;36mget_grouper\u001b[0;34m(obj, key, axis, level, sort, observed, mutated, validate, dropna)\u001b[0m\n\u001b[1;32m    873\u001b[0m     in_axis, name, gpr \u001b[38;5;241m=\u001b[39m \u001b[38;5;28;01mTrue\u001b[39;00m, gpr, obj[gpr]\n\u001b[1;32m    874\u001b[0m     \u001b[38;5;28;01mif\u001b[39;00m gpr\u001b[38;5;241m.\u001b[39mndim \u001b[38;5;241m!=\u001b[39m \u001b[38;5;241m1\u001b[39m:\n\u001b[1;32m    875\u001b[0m         \u001b[38;5;66;03m# non-unique columns; raise here to get the name in the\u001b[39;00m\n\u001b[1;32m    876\u001b[0m         \u001b[38;5;66;03m# exception message\u001b[39;00m\n\u001b[0;32m--> 877\u001b[0m         \u001b[38;5;28;01mraise\u001b[39;00m \u001b[38;5;167;01mValueError\u001b[39;00m(\u001b[38;5;124mf\u001b[39m\u001b[38;5;124m\"\u001b[39m\u001b[38;5;124mGrouper for \u001b[39m\u001b[38;5;124m'\u001b[39m\u001b[38;5;132;01m{\u001b[39;00mname\u001b[38;5;132;01m}\u001b[39;00m\u001b[38;5;124m'\u001b[39m\u001b[38;5;124m not 1-dimensional\u001b[39m\u001b[38;5;124m\"\u001b[39m)\n\u001b[1;32m    878\u001b[0m     exclusions\u001b[38;5;241m.\u001b[39madd(name)\n\u001b[1;32m    879\u001b[0m \u001b[38;5;28;01melif\u001b[39;00m obj\u001b[38;5;241m.\u001b[39m_is_level_reference(gpr, axis\u001b[38;5;241m=\u001b[39maxis):\n",
      "\u001b[0;31mValueError\u001b[0m: Grouper for 'language' not 1-dimensional"
     ]
    }
   ],
   "source": [
    "# Define parameters for the CategoricalAbstraction\n",
    "cols = [col for col in data.columns if 'categorical' in col]\n",
    "match = ['exact' for _ in cols]\n",
    "min_support = 0.1\n",
    "window_size = 3\n",
    "max_pattern_size = 3\n",
    "\n",
    "# Instantiate the CategoricalAbstraction class\n",
    "ca = CategoricalAbstraction()\n",
    "\n",
    "# Perform the temporal abstraction on the categorical data\n",
    "abstracted_data = ca.abstract_categorical(data, cols, match, min_support, window_size, max_pattern_size)\n",
    "abstracted_data = data.groupby(['language', 'tone', 'participant', 'script'])\n",
    " \n",
    "\n",
    "# Save the resulting dataset with abstracted patterns\n",
    "output_path = '/Users/macbookair/Desktop/ML4QS_Group125/data_w_features_ver2/data_w_temporal_patterns.csv'\n",
    "abstracted_data.to_csv(output_path, index=False)\n",
    "\n",
    "abstracted_data.head()\n"
   ]
  },
  {
   "cell_type": "code",
   "execution_count": null,
   "metadata": {},
   "outputs": [],
   "source": []
  }
 ],
 "metadata": {
  "kernelspec": {
   "display_name": "base",
   "language": "python",
   "name": "python3"
  },
  "language_info": {
   "codemirror_mode": {
    "name": "ipython",
    "version": 3
   },
   "file_extension": ".py",
   "mimetype": "text/x-python",
   "name": "python",
   "nbconvert_exporter": "python",
   "pygments_lexer": "ipython3",
   "version": "3.9.12"
  }
 },
 "nbformat": 4,
 "nbformat_minor": 2
}
