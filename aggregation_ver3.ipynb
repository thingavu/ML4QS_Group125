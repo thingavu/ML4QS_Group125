{
 "cells": [
  {
   "cell_type": "code",
   "execution_count": 6,
   "metadata": {},
   "outputs": [],
   "source": [
    "import matplotlib.pyplot as plt\n",
    "import pandas as pd\n",
    "import numpy as np\n",
    "import os\n",
    "import glob\n"
   ]
  },
  {
   "cell_type": "code",
   "execution_count": 7,
   "metadata": {},
   "outputs": [],
   "source": [
    "# Function to extract information from the folder path\n",
    "def extract_info(folder_path):\n",
    "    parts = folder_path.split('/')\n",
    "    sensor = parts[1]\n",
    "    participant = parts[2]\n",
    "    language_tone = parts[-2].split('_')\n",
    "    language = language_tone[0]\n",
    "    tone = language_tone[1]\n",
    "    script = language_tone[2].replace('csv', \"\")\n",
    "    return sensor, language, tone, participant, script\n",
    "\n",
    "# Function to sample the data\n",
    "def sample(data, sampling_rate):\n",
    "    # Convert 'Time (s)' to TimedeltaIndex\n",
    "    data['Time (s)'] = pd.to_timedelta(data['Time (s)'], unit='s')\n",
    "    \n",
    "    # Drop duplicate indices to make the index unique\n",
    "    data = data.drop_duplicates(subset='Time (s)')\n",
    "    \n",
    "    # Set 'Time (s)' as the index\n",
    "    data.set_index('Time (s)', inplace=True)\n",
    "    #change the 'Sounf pressure level (dB)' column name to 'amplitude'\n",
    "    data.rename(columns={'Sound pressure level (dB)': 'amplitude'}, inplace=True)\n",
    "\n",
    "    # Resample the data to the given interval and calculate mean, max, min, and median\n",
    "    df_resampled = data.resample(f'{sampling_rate}S').agg({'amplitude': ['mean', 'max', 'min', 'median', 'std']})\n",
    "\n",
    "    # Create a new column for seconds only and rename columns\n",
    "    df_resampled[f'time_{sampling_rate}'] = df_resampled.index.total_seconds()\n",
    "    df_resampled.columns = ['_'.join(col).strip() for col in df_resampled.columns.values]\n",
    "    #delete the _ character at the end of the time column\n",
    "    df_resampled.rename(columns={f'time_{sampling_rate}_': f'time_{sampling_rate}'}, inplace=True)\n",
    "\n",
    "    # Reset the index to drop the original time column\n",
    "    df_resampled.reset_index(drop=True, inplace=True)\n",
    "\n",
    "   # Calculate the total number of missing values in the original amplitude column\n",
    "    num_rows = int(1 / sampling_rate) # Number of rows combined for resampling\n",
    "    missing_values_original = data['amplitude'].isnull().astype(int)\n",
    "    df_resampled['amplitude_missing'] = missing_values_original.groupby(data.index // pd.Timedelta(seconds=sampling_rate)).sum()\n",
    "\n",
    "\n",
    "    return df_resampled"
   ]
  },
  {
   "cell_type": "code",
   "execution_count": 8,
   "metadata": {},
   "outputs": [],
   "source": [
    "sampled_df_list = []\n",
    "\n",
    "# Path where the Amplitudes.csv files are located\n",
    "path = 'data/amplitudes'\n",
    "\n",
    "# Loop through all the Amplitudes.csv files excluding 'duru' and 'nga' folders\n",
    "for folder_path in glob.glob(path + '/*/*/Amplitudes.csv'):\n",
    "    if 'data/amplitudes/duru/' in folder_path or 'data/amplitudes/nga/' in folder_path:\n",
    "        continue  # Skip processing for these folders\n",
    "    # Extract information from the folder path\n",
    "    sensor, language, tone, participant, script = extract_info(folder_path)\n",
    "    df = pd.read_csv(folder_path)\n",
    " \n",
    "    # Sample the data\n",
    "    sampled_df = sample(df, 2)\n",
    "    # Add new columns\n",
    "    sampled_df['sensor'] = sensor\n",
    "    sampled_df['language'] = language\n",
    "    sampled_df['tone'] = tone\n",
    "    sampled_df['participant'] = participant\n",
    "    sampled_df['script'] = script\n",
    "    # Append the sampled dataframe to the list\n",
    "    sampled_df_list.append(sampled_df)\n",
    "\n",
    "# Merge all sampled dataframes\n",
    "merged_sampled_df = pd.concat(sampled_df_list, ignore_index=True)"
   ]
  },
  {
   "cell_type": "code",
   "execution_count": 9,
   "metadata": {},
   "outputs": [],
   "source": [
    "merged_sampled_df.to_csv('amplitude_2.csv', index=False)"
   ]
  },
  {
   "cell_type": "code",
   "execution_count": 10,
   "metadata": {},
   "outputs": [
    {
     "name": "stdout",
     "output_type": "stream",
     "text": [
      "['ch' 'en' 'ru' 'tr']\n"
     ]
    }
   ],
   "source": [
    "languages = merged_sampled_df['language'].unique()\n",
    "print(languages)"
   ]
  },
  {
   "cell_type": "code",
   "execution_count": null,
   "metadata": {},
   "outputs": [],
   "source": []
  }
 ],
 "metadata": {
  "kernelspec": {
   "display_name": "Python 3",
   "language": "python",
   "name": "python3"
  },
  "language_info": {
   "codemirror_mode": {
    "name": "ipython",
    "version": 3
   },
   "file_extension": ".py",
   "mimetype": "text/x-python",
   "name": "python",
   "nbconvert_exporter": "python",
   "pygments_lexer": "ipython3",
   "version": "3.9.12"
  }
 },
 "nbformat": 4,
 "nbformat_minor": 2
}
